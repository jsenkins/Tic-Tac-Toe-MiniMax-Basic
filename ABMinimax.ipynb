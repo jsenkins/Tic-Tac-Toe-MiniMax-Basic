{
  "nbformat": 4,
  "nbformat_minor": 0,
  "metadata": {
    "colab": {
      "provenance": []
    },
    "kernelspec": {
      "name": "python3",
      "display_name": "Python 3"
    },
    "language_info": {
      "name": "python"
    }
  },
  "cells": [
    {
      "cell_type": "code",
      "source": [
        "board=[]"
      ],
      "metadata": {
        "id": "Si2sELnt-r6A"
      },
      "execution_count": 1,
      "outputs": []
    },
    {
      "cell_type": "code",
      "source": [
        "def initialState():\n",
        "  board=[\n",
        "      [0,0,'X'],\n",
        "      [0,'X',0],\n",
        "      ['O',0,0]\n",
        "\n",
        "  ]\n",
        "  #player 1 will use the letter X and player 2 will use the letter O\n",
        "  print(\"Initial state\")\n",
        "  for i in board:\n",
        "    print(i)\n",
        "  return board\n",
        "\n",
        "\n",
        "board=initialState()"
      ],
      "metadata": {
        "colab": {
          "base_uri": "https://localhost:8080/"
        },
        "id": "57aYLjeb3hcL",
        "outputId": "b30a0e7f-2be7-4466-af96-09b157646235"
      },
      "execution_count": 2,
      "outputs": [
        {
          "output_type": "stream",
          "name": "stdout",
          "text": [
            "Initial state\n",
            "[0, 0, 'X']\n",
            "[0, 'X', 0]\n",
            "['O', 0, 0]\n"
          ]
        }
      ]
    },
    {
      "cell_type": "code",
      "source": [
        "def player(board):\n",
        "  countx=0\n",
        "  counto=0\n",
        "  player1=True\n",
        "  for i in board:\n",
        "    for j in i:\n",
        "      if j=='X':\n",
        "        countx+=1\n",
        "      elif j=='O':\n",
        "        counto+=1\n",
        "  if countx>counto:\n",
        "    player1=False\n",
        "    print(\"player 2's turn\")\n",
        "  else:\n",
        "    print(\"player 1's turn\")\n",
        "  return player1\n",
        "\n",
        "player(board)"
      ],
      "metadata": {
        "colab": {
          "base_uri": "https://localhost:8080/"
        },
        "id": "lrXJOdjv4EBb",
        "outputId": "6886e6ff-c4b6-4888-f3bc-5f657c3dfde5"
      },
      "execution_count": 3,
      "outputs": [
        {
          "output_type": "stream",
          "name": "stdout",
          "text": [
            "player 2's turn\n"
          ]
        },
        {
          "output_type": "execute_result",
          "data": {
            "text/plain": [
              "False"
            ]
          },
          "metadata": {},
          "execution_count": 3
        }
      ]
    },
    {
      "cell_type": "code",
      "source": [
        "def actions(board) :\n",
        "  moves = []\n",
        "\n",
        "  for x, row in enumerate(board):\n",
        "      for y, cell in enumerate(row):\n",
        "          if cell == 0:\n",
        "              moves.append([x, y])\n",
        "\n",
        "  return moves\n",
        "actions(board)"
      ],
      "metadata": {
        "colab": {
          "base_uri": "https://localhost:8080/"
        },
        "id": "ON4nccp67LrK",
        "outputId": "87a842c6-70bd-4a1b-b702-66508da166a7"
      },
      "execution_count": 4,
      "outputs": [
        {
          "output_type": "execute_result",
          "data": {
            "text/plain": [
              "[[0, 0], [0, 1], [1, 0], [1, 2], [2, 1], [2, 2]]"
            ]
          },
          "metadata": {},
          "execution_count": 4
        }
      ]
    },
    {
      "cell_type": "code",
      "execution_count": 5,
      "metadata": {
        "colab": {
          "base_uri": "https://localhost:8080/"
        },
        "id": "APIGgV5VtUs7",
        "outputId": "fd08de8a-2d45-412f-ea80-51876458cf01"
      },
      "outputs": [
        {
          "output_type": "stream",
          "name": "stdout",
          "text": [
            "player 2's turn\n",
            "updated board state\n",
            "[0, 0, 'X']\n",
            "[0, 'X', 'O']\n",
            "['O', 0, 0]\n"
          ]
        }
      ],
      "source": [
        "def result(board, action):\n",
        "  #returns the state of the board after making the move\n",
        "  getPlayer=player(board)\n",
        "\n",
        "  getactions=actions(board)\n",
        "  if action not in getactions:\n",
        "    print(\"this move has already been made or you entered an index out of bounds\")\n",
        "    print(\"possible moves: \", getactions)\n",
        "    print(\"updated board state\")\n",
        "    for i in board:\n",
        "     print(i)\n",
        "    return False\n",
        "  i=int(action[0])\n",
        "  j=int(action[1])\n",
        "  if getPlayer:\n",
        "    #player 1 is playing\n",
        "\n",
        "\n",
        "    board[i][j]='X'\n",
        "  else:\n",
        "    #player 2 is playing\n",
        "    board[i][j]='O'\n",
        "  print(\"updated board state\")\n",
        "  for i in board:\n",
        "    print(i)\n",
        "action=[1,2]\n",
        "\n",
        "result(board,action )\n"
      ]
    },
    {
      "cell_type": "code",
      "source": [
        "def terminal(board):\n",
        "  if len(actions(board))==0:\n",
        "    return True"
      ],
      "metadata": {
        "id": "SjBpA6To5vs7"
      },
      "execution_count": 11,
      "outputs": []
    },
    {
      "cell_type": "code",
      "source": [
        "def winner(board):\n",
        "  for i in range(len(board)):\n",
        "    if board[i][0]=='X' and board[i][1]=='X' and board[i][2]=='X':\n",
        "      return 1\n",
        "  for i in range(len(board)):\n",
        "    if board[i][0]=='O' and board[i][1]=='O' and board[i][2]=='O':\n",
        "      return 2\n",
        "\n",
        "\n",
        "  for i in range(len(board)):\n",
        "    if board[0][i]=='X' and board[1][i]=='X' and board[2][i]=='X':\n",
        "      return 1\n",
        "  for i in range(len(board)):\n",
        "    if board[0][i]=='O' and board[1][i]=='O' and board[2][i]=='O':\n",
        "      return 2\n",
        "\n",
        "\n",
        "\n",
        "  if board[0][0]=='X' and board[1][1]=='X' and board[2][2]=='X' :\n",
        "    return 1\n",
        "  if board[0][0]=='O' and board[1][1]=='O' and board[2][2]=='O' :\n",
        "    return 2\n",
        "\n",
        "\n",
        "\n",
        "  if board[0][2]=='X' and board[1][1]=='X' and board[2][0]=='X' :\n",
        "    return 1\n",
        "  if board[0][2]=='O' and board[1][1]=='O' and board[2][0]=='O' :\n",
        "    return 2\n",
        "\n",
        "  if terminal(board):\n",
        "    print(\"no more possible moves, game has ended\")\n",
        "    return -1\n",
        "  print(\"no on has won, keep playing \")\n",
        "  return 0\n",
        "winner(board)"
      ],
      "metadata": {
        "colab": {
          "base_uri": "https://localhost:8080/"
        },
        "id": "V1LoOtksBHxo",
        "outputId": "d3802f58-95e7-457b-eb91-c8acf058bc00"
      },
      "execution_count": 9,
      "outputs": [
        {
          "output_type": "stream",
          "name": "stdout",
          "text": [
            "no on has won, keep playing \n"
          ]
        },
        {
          "output_type": "execute_result",
          "data": {
            "text/plain": [
              "0"
            ]
          },
          "metadata": {},
          "execution_count": 9
        }
      ]
    },
    {
      "cell_type": "code",
      "source": [
        "def alpha_beta_pruning(board, depth, alpha, beta, maximizingPlayer):\n",
        "    if depth == 0 or terminal(board):\n",
        "        return evaluate(board)\n",
        "\n",
        "    if maximizingPlayer:\n",
        "        maxEval = float('-inf')\n",
        "        for action in actions(board):\n",
        "            board[action[0]][action[1]] = 'X'\n",
        "            eval = alpha_beta_pruning(board, depth - 1, alpha, beta, False)\n",
        "            board[action[0]][action[1]] = 0\n",
        "            maxEval = max(maxEval, eval)\n",
        "            alpha = max(alpha, eval)\n",
        "            if beta <= alpha:\n",
        "                break\n",
        "        return maxEval\n",
        "    else:\n",
        "        minEval = float('inf')\n",
        "        for action in actions(board):\n",
        "            board[action[0]][action[1]] = 'O'\n",
        "            eval = alpha_beta_pruning(board, depth - 1, alpha, beta, True)\n",
        "            board[action[0]][action[1]] = 0\n",
        "            minEval = min(minEval, eval)\n",
        "            beta = min(beta, eval)\n",
        "            if beta <= alpha:\n",
        "                break\n",
        "        return minEval\n",
        "\n",
        "def evaluate(board):\n",
        "    result_val = winner(board)\n",
        "    if result_val == 1:\n",
        "        return 10\n",
        "    elif result_val == 2:\n",
        "        return -10\n",
        "    else:\n",
        "        return 0\n",
        "\n",
        "depth = 3\n",
        "alpha = float('-inf')\n",
        "beta = float('inf')\n",
        "maximizingPlayer = True\n",
        "score = alpha_beta_pruning(board, depth, alpha, beta, maximizingPlayer)\n",
        "print(\"score:\", score)\n"
      ],
      "metadata": {
        "id": "OAyhXf5RJ3lP",
        "colab": {
          "base_uri": "https://localhost:8080/"
        },
        "outputId": "30535a31-e1b1-4c71-ceb4-2b672768b5c3"
      },
      "execution_count": 12,
      "outputs": [
        {
          "output_type": "stream",
          "name": "stdout",
          "text": [
            "no on has won, keep playing \n",
            "no on has won, keep playing \n",
            "no on has won, keep playing \n",
            "no on has won, keep playing \n",
            "no on has won, keep playing \n",
            "no on has won, keep playing \n",
            "no on has won, keep playing \n",
            "no on has won, keep playing \n",
            "no on has won, keep playing \n",
            "no on has won, keep playing \n",
            "no on has won, keep playing \n",
            "no on has won, keep playing \n",
            "score: 10\n"
          ]
        }
      ]
    }
  ]
}